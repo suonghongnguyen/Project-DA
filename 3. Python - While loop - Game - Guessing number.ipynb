{
 "cells": [
  {
   "cell_type": "markdown",
   "metadata": {},
   "source": [
    "# Trong project này, chúng ta sẽ làm 1 trò chơi nhỏ mang tên đoán số. Cụ thể, Máy tính sẽ chọn random 1 số từ 1 đến 10. \n",
    "### Chúng ta sẽ đoán máy tính chọn số bao nhiêu?\n",
    "#### - Nếu số chúng ta đoán thấp hơn máy tính thì in ra \"your guess is too low\"\n",
    "#### - Nếu số chúng ta đoán cao hơn máy tính thì in ra \"your guess is too high\"\n",
    "#### - Nếu chúng ta đoán đúng số thì in ra \"you got the right number after\" xx \"tries\" trong đó xx là số lần đoán.\n",
    "#### - Trường hợp 5 lần đoán sai thì sẽ dừng trò chơi và in ra \"Gameover!!! The number was yy\" trong đó yy là số mà máy tính chọn\n",
    "\n",
    "#### Những kiến thức cover trong project này: input(), print(), while loop, if else, break."
   ]
  },
  {
   "cell_type": "code",
   "execution_count": 16,
   "metadata": {},
   "outputs": [
    {
     "name": "stdout",
     "output_type": "stream",
     "text": [
      "Enter your name: Sương\n",
      "Hi Sương, welcome to the guessing game.\n",
      "Input your guess number: 4\n",
      "Your guess is too high\n",
      "Input your guess number: 5\n",
      "Your guess is too high\n",
      "Input your guess number: 3\n",
      "Your guess is too high\n",
      "Input your guess number: 1\n",
      "You got the right number after 4 tries.\n"
     ]
    }
   ],
   "source": [
    "import random \n",
    "# generate random number\n",
    "random_number = random.randint(1,11)\n",
    "# ask player name\n",
    "player_name = input(\"Enter your name: \")\n",
    "# Say hi and welcome player to the guessing game\n",
    "print(\"Hi \" + player_name + \", welcome to the guessing game.\")\n",
    "# develop while loop\n",
    "# guess = computer number   \n",
    "# guess times > 5 \n",
    "n = 1 \n",
    "while n <= 5 :\n",
    "    player_guess = int(input(\"Input your guess number: \"))\n",
    "    \n",
    "    if player_guess < random_number : \n",
    "        print(\"Your guess is too low\")\n",
    "    elif player_guess > random_number :\n",
    "        print(\"Your guess is too high\")\n",
    "    else :\n",
    "        if n == 1 :\n",
    "            print(\"You got the right number after \" + str(n) + \" try.\")\n",
    "            break\n",
    "        else :\n",
    "            print(\"You got the right number after \" + str(n) + \" tries.\")\n",
    "            break \n",
    "    if n == 5 : \n",
    "        print(\"Gameover!!! The number was \" + str(random_number))\n",
    "        break\n",
    "    n = n + 1"
   ]
  },
  {
   "cell_type": "code",
   "execution_count": null,
   "metadata": {},
   "outputs": [],
   "source": []
  },
  {
   "cell_type": "code",
   "execution_count": null,
   "metadata": {},
   "outputs": [],
   "source": []
  }
 ],
 "metadata": {
  "kernelspec": {
   "display_name": "Python 3 (ipykernel)",
   "language": "python",
   "name": "python3"
  },
  "language_info": {
   "codemirror_mode": {
    "name": "ipython",
    "version": 3
   },
   "file_extension": ".py",
   "mimetype": "text/x-python",
   "name": "python",
   "nbconvert_exporter": "python",
   "pygments_lexer": "ipython3",
   "version": "3.9.12"
  }
 },
 "nbformat": 4,
 "nbformat_minor": 4
}
